{
 "cells": [
  {
   "cell_type": "code",
   "execution_count": 2,
   "id": "50d4329f-db92-44d6-ae40-cb7e9902c1bc",
   "metadata": {},
   "outputs": [],
   "source": [
    "import json\n",
    "import pandas"
   ]
  },
  {
   "cell_type": "code",
   "execution_count": 10,
   "id": "82e1aa15-af37-4053-ad7e-3ca9ceaca0ed",
   "metadata": {},
   "outputs": [],
   "source": [
    "df = pandas.read_json(\"~/multi-center-fed-learning/models/output/event_data.json\")"
   ]
  },
  {
   "cell_type": "code",
   "execution_count": 5,
   "id": "0346d9a9-7476-4308-9c2a-e6b46031f3cb",
   "metadata": {},
   "outputs": [
    {
     "data": {
      "text/html": [
       "<div>\n",
       "<style scoped>\n",
       "    .dataframe tbody tr th:only-of-type {\n",
       "        vertical-align: middle;\n",
       "    }\n",
       "\n",
       "    .dataframe tbody tr th {\n",
       "        vertical-align: top;\n",
       "    }\n",
       "\n",
       "    .dataframe thead th {\n",
       "        text-align: right;\n",
       "    }\n",
       "</style>\n",
       "<table border=\"1\" class=\"dataframe\">\n",
       "  <thead>\n",
       "    <tr style=\"text-align: right;\">\n",
       "      <th></th>\n",
       "      <th>event_id</th>\n",
       "      <th>baseline_name</th>\n",
       "      <th>dataset</th>\n",
       "      <th>event_timestamp</th>\n",
       "      <th>end_timestamp</th>\n",
       "      <th>event_params</th>\n",
       "    </tr>\n",
       "  </thead>\n",
       "  <tbody>\n",
       "    <tr>\n",
       "      <th>0</th>\n",
       "      <td>6e5547a3b54549af70bcccfc686e398202a479e84effd8...</td>\n",
       "      <td>fedco</td>\n",
       "      <td>synthetic</td>\n",
       "      <td>1.657508e+09</td>\n",
       "      <td></td>\n",
       "      <td>{'key': 'baseline', 'value': 'fedco'}</td>\n",
       "    </tr>\n",
       "    <tr>\n",
       "      <th>1</th>\n",
       "      <td>6e5547a3b54549af70bcccfc686e398202a479e84effd8...</td>\n",
       "      <td>fedco</td>\n",
       "      <td>synthetic</td>\n",
       "      <td>1.657508e+09</td>\n",
       "      <td></td>\n",
       "      <td>{'key': 'batch-size', 'value': 10}</td>\n",
       "    </tr>\n",
       "    <tr>\n",
       "      <th>2</th>\n",
       "      <td>6e5547a3b54549af70bcccfc686e398202a479e84effd8...</td>\n",
       "      <td>fedco</td>\n",
       "      <td>synthetic</td>\n",
       "      <td>1.657508e+09</td>\n",
       "      <td></td>\n",
       "      <td>{'key': 'clients-per-round', 'value': 5}</td>\n",
       "    </tr>\n",
       "    <tr>\n",
       "      <th>3</th>\n",
       "      <td>6e5547a3b54549af70bcccfc686e398202a479e84effd8...</td>\n",
       "      <td>fedco</td>\n",
       "      <td>synthetic</td>\n",
       "      <td>1.657508e+09</td>\n",
       "      <td></td>\n",
       "      <td>{'key': 'dataset', 'value': 'synthetic'}</td>\n",
       "    </tr>\n",
       "    <tr>\n",
       "      <th>4</th>\n",
       "      <td>6e5547a3b54549af70bcccfc686e398202a479e84effd8...</td>\n",
       "      <td>fedco</td>\n",
       "      <td>synthetic</td>\n",
       "      <td>1.657508e+09</td>\n",
       "      <td></td>\n",
       "      <td>{'key': 'epochs', 'value': 10}</td>\n",
       "    </tr>\n",
       "  </tbody>\n",
       "</table>\n",
       "</div>"
      ],
      "text/plain": [
       "                                            event_id baseline_name    dataset  \\\n",
       "0  6e5547a3b54549af70bcccfc686e398202a479e84effd8...         fedco  synthetic   \n",
       "1  6e5547a3b54549af70bcccfc686e398202a479e84effd8...         fedco  synthetic   \n",
       "2  6e5547a3b54549af70bcccfc686e398202a479e84effd8...         fedco  synthetic   \n",
       "3  6e5547a3b54549af70bcccfc686e398202a479e84effd8...         fedco  synthetic   \n",
       "4  6e5547a3b54549af70bcccfc686e398202a479e84effd8...         fedco  synthetic   \n",
       "\n",
       "   event_timestamp end_timestamp                              event_params  \n",
       "0     1.657508e+09                   {'key': 'baseline', 'value': 'fedco'}  \n",
       "1     1.657508e+09                      {'key': 'batch-size', 'value': 10}  \n",
       "2     1.657508e+09                {'key': 'clients-per-round', 'value': 5}  \n",
       "3     1.657508e+09                {'key': 'dataset', 'value': 'synthetic'}  \n",
       "4     1.657508e+09                          {'key': 'epochs', 'value': 10}  "
      ]
     },
     "execution_count": 5,
     "metadata": {},
     "output_type": "execute_result"
    }
   ],
   "source": [
    "df.head()"
   ]
  },
  {
   "cell_type": "code",
   "execution_count": 11,
   "id": "979c99c5-a344-44f6-9adc-46a747afc900",
   "metadata": {},
   "outputs": [
    {
     "name": "stdout",
     "output_type": "stream",
     "text": [
      "{'event_id': 'b17b5858ce55d82fd1e5d853259374c3ace73a52c494811a9869a7ac4c2570c3', 'baseline_name': 'fedco', 'dataset': 'synthetic', 'event_timestamp': 1657508363.313597, 'end_timestamp': '', 'event_params': [{'key': 'baseline', 'value': 'fedco'}, {'key': 'batch-size', 'value': 10}, {'key': 'clients-per-round', 'value': 5}, {'key': 'dataset', 'value': 'synthetic'}, {'key': 'epochs', 'value': 10}, {'key': 'eval-every', 'value': 1}, {'key': 'lr', 'value': 0.1}, {'key': 'k', 'value': 2}, {'key': 'num-rounds', 'value': 5}, {'key': 'test-batch', 'value': 100}, {'key': 'extra_params_file', 'value': '../configs/fedrobust/job.yaml'}, {'key': 'seed', 'value': '1657508359'}]}\n"
     ]
    }
   ],
   "source": [
    "with open('multi-center-fed-learning/models/output/event_data.json', 'r+', encoding='utf-8') as f:\n",
    "    event_record = json.load(f)\n",
    "    \n",
    "print(event_record)"
   ]
  },
  {
   "cell_type": "code",
   "execution_count": 13,
   "id": "75f003de-f483-48b7-85cf-9695ede715d1",
   "metadata": {},
   "outputs": [],
   "source": [
    "import time\n",
    "event_record[\"end_timestamp\"] = time.time()"
   ]
  },
  {
   "cell_type": "code",
   "execution_count": 14,
   "id": "3a3d579f-700a-4589-9045-d12955b61f11",
   "metadata": {},
   "outputs": [],
   "source": [
    "with open('multi-center-fed-learning/models/output/event_data.json', 'r+', encoding='utf-8') as f:\n",
    "    json.dump(event_record, f)\n",
    "    \n"
   ]
  },
  {
   "cell_type": "code",
   "execution_count": 15,
   "id": "0934293c-de44-4b37-b523-34fd892b68d6",
   "metadata": {},
   "outputs": [
    {
     "name": "stdout",
     "output_type": "stream",
     "text": [
      "0.76\n"
     ]
    }
   ],
   "source": [
    "len_clus = 823\n",
    "len_outliers = 623\n",
    "\n",
    "ratio = round(len_outliers/len_clus, 2)\n",
    "print(ratio)"
   ]
  },
  {
   "cell_type": "code",
   "execution_count": 20,
   "id": "99c800f7-202c-40ea-a08b-bbd9b460501c",
   "metadata": {},
   "outputs": [
    {
     "data": {
      "text/plain": [
       "0.13728328203504636"
      ]
     },
     "execution_count": 20,
     "metadata": {},
     "output_type": "execute_result"
    }
   ],
   "source": [
    "import random\n",
    "random.uniform(0, 1)"
   ]
  },
  {
   "cell_type": "markdown",
   "id": "fad8b4d3-111b-4fbf-acc3-b9227fb5e219",
   "metadata": {},
   "source": [
    "# Docker command  for mount a local folder"
   ]
  },
  {
   "cell_type": "code",
   "execution_count": null,
   "id": "85bb5db9-5224-4335-bd23-53489329aa5c",
   "metadata": {},
   "outputs": [],
   "source": [
    "export PROJECT_ID=$(gcloud config get-value core/project)\n",
    "IMAGE_NAME=curated_fldata\n",
    "TAG=latest\n",
    "IMAGE_URI=\"gcr.io/${PROJECT_ID}/${IMAGE_NAME}:${TAG}\""
   ]
  },
  {
   "cell_type": "code",
   "execution_count": null,
   "id": "44b7acf5-0ec9-45d3-acea-b568975489a0",
   "metadata": {},
   "outputs": [],
   "source": [
    "!docker run -it --volume $(pwd)/scripts:/container ${IMAGE_URI} bash -c \"cd /container && bash main.bash\""
   ]
  },
  {
   "cell_type": "code",
   "execution_count": null,
   "id": "826c16a8-25a5-42ed-adaf-f29c92a6bba4",
   "metadata": {},
   "outputs": [],
   "source": [
    "--command=\"/bin/bash\"\n",
    "\n",
    "--args=[\"-c\", \"gsutil cp gs://gs_bakcentral/scr/* /root && cd /root/ && ls -l\""
   ]
  }
 ],
 "metadata": {
  "environment": {
   "kernel": "python3",
   "name": "common-cpu.m94",
   "type": "gcloud",
   "uri": "gcr.io/deeplearning-platform-release/base-cpu:m94"
  },
  "kernelspec": {
   "display_name": "Python 3",
   "language": "python",
   "name": "python3"
  },
  "language_info": {
   "codemirror_mode": {
    "name": "ipython",
    "version": 3
   },
   "file_extension": ".py",
   "mimetype": "text/x-python",
   "name": "python",
   "nbconvert_exporter": "python",
   "pygments_lexer": "ipython3",
   "version": "3.7.12"
  }
 },
 "nbformat": 4,
 "nbformat_minor": 5
}
