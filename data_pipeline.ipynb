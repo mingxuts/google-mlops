{
 "cells": [
  {
   "cell_type": "code",
   "execution_count": 1,
   "id": "fa5da273-fcfd-4193-aec4-9b308a0a9e18",
   "metadata": {},
   "outputs": [],
   "source": [
    "import glob"
   ]
  },
  {
   "cell_type": "code",
   "execution_count": 2,
   "id": "537da8f5-ff66-4804-8e04-13d78c68f45b",
   "metadata": {},
   "outputs": [
    {
     "name": "stdout",
     "output_type": "stream",
     "text": [
      "['scripts/main.bash']\n"
     ]
    }
   ],
   "source": [
    "path = r'scripts/*.bash'\n",
    "files = glob.glob(path)\n",
    "print(files)"
   ]
  },
  {
   "cell_type": "code",
   "execution_count": 3,
   "id": "5e38bee7-e00c-48b2-bc94-f537b668b5a2",
   "metadata": {},
   "outputs": [
    {
     "name": "stdout",
     "output_type": "stream",
     "text": [
      "       695  2022-07-14T16:01:08Z  gs://gs_bakcentral/json/event_data_id_4d75834ecee082aabe06e5f36c719e34f44efe0c941d03a7f8950a42463424ce.json\n",
      "       695  2022-07-14T08:23:20Z  gs://gs_bakcentral/json/event_data_id_5cf278a53948a75d8659dff977a93593c7adf54b15fdc5d3b63adc869a47134a.json\n",
      "       694  2022-07-14T16:01:08Z  gs://gs_bakcentral/json/event_data_id_8fc625e748df2d4860810b8f3e218c3c9ddf6846f5f72b25c4e10d15a557b2ee.json\n",
      "       695  2022-07-14T16:01:08Z  gs://gs_bakcentral/json/event_data_id_ab3655cfef9cb23dd211edcc7acffc73ba9a90722cfc9a9469f812f3b3491b97.json\n",
      "       700  2022-07-14T08:32:56Z  gs://gs_bakcentral/json/event_data_id_d98ab917cf3274ca65dd34cae127bff4363da6decce8211f67895950b83cc844.json\n",
      "       700  2022-07-14T08:32:56Z  gs://gs_bakcentral/json/event_data_id_e5b4fba77d389f9d059a881ef454b6a2f709cf6b1ed15e79d30cedbe4b623044.json\n",
      "TOTAL: 6 objects, 4179 bytes (4.08 KiB)\n"
     ]
    }
   ],
   "source": [
    "!gsutil ls -l gs://gs_bakcentral/json/event_*.json"
   ]
  },
  {
   "cell_type": "code",
   "execution_count": 7,
   "id": "8dd65738-bb57-4cda-85b2-1bb467e5dba6",
   "metadata": {},
   "outputs": [],
   "source": [
    "from google.cloud import storage\n",
    "\n",
    "\n",
    "def list_blobs(bucket_name):\n",
    "    \"\"\"Lists all the blobs in the bucket.\"\"\"\n",
    "\n",
    "    storage_client = storage.Client()\n",
    "\n",
    "    # Note: Client.list_blobs requires at least package version 1.17.0.\n",
    "    blobs = storage_client.list_blobs(bucket_name, prefix='json')\n",
    "\n",
    "    return blobs"
   ]
  },
  {
   "cell_type": "code",
   "execution_count": 18,
   "id": "56339cf1-e94d-4567-bed2-adfe4e32d5df",
   "metadata": {},
   "outputs": [],
   "source": [
    "EVENT_RESTR = \"json/event_\"\n",
    "FT_RESTR = \"json/ft_\"\n",
    "TEST_RESTR = \"json/test_\""
   ]
  },
  {
   "cell_type": "code",
   "execution_count": 10,
   "id": "7c964b4f-da7e-4295-ad47-a66ed9168629",
   "metadata": {},
   "outputs": [],
   "source": [
    "import re\n",
    "\n",
    "files = [f.name for f in list_blobs(\"gs_bakcentral\") if re.match(\"json/event_\", f.name)]"
   ]
  },
  {
   "cell_type": "code",
   "execution_count": 11,
   "id": "9dbc9bbb-5391-4204-b9f1-d3c27caef876",
   "metadata": {},
   "outputs": [
    {
     "data": {
      "text/plain": [
       "['json/event_data_id_4d75834ecee082aabe06e5f36c719e34f44efe0c941d03a7f8950a42463424ce.json',\n",
       " 'json/event_data_id_5cf278a53948a75d8659dff977a93593c7adf54b15fdc5d3b63adc869a47134a.json',\n",
       " 'json/event_data_id_8fc625e748df2d4860810b8f3e218c3c9ddf6846f5f72b25c4e10d15a557b2ee.json',\n",
       " 'json/event_data_id_ab3655cfef9cb23dd211edcc7acffc73ba9a90722cfc9a9469f812f3b3491b97.json',\n",
       " 'json/event_data_id_d98ab917cf3274ca65dd34cae127bff4363da6decce8211f67895950b83cc844.json',\n",
       " 'json/event_data_id_e5b4fba77d389f9d059a881ef454b6a2f709cf6b1ed15e79d30cedbe4b623044.json']"
      ]
     },
     "execution_count": 11,
     "metadata": {},
     "output_type": "execute_result"
    }
   ],
   "source": [
    "files"
   ]
  },
  {
   "cell_type": "code",
   "execution_count": 13,
   "id": "30d5098e-dd65-479c-922b-2870e995cc4f",
   "metadata": {},
   "outputs": [
    {
     "name": "stdout",
     "output_type": "stream",
     "text": [
      "json/event_data_id_4d75834ecee082aabe06e5f36c719e34f44efe0c941d03a7f8950a42463424ce.json\n"
     ]
    }
   ],
   "source": [
    "message = \"hello from Python\"\n",
    "!echo {files[0]}"
   ]
  },
  {
   "cell_type": "code",
   "execution_count": 16,
   "id": "910c3fc5-6702-49d7-98ae-208aea18e8bc",
   "metadata": {},
   "outputs": [
    {
     "name": "stdout",
     "output_type": "stream",
     "text": [
      "Waiting on bqjob_r54df16c0c03527f1_0000018200347149_1 ... (1s) Current status: DONE   \n",
      "Waiting on bqjob_r48348f92d6d368d8_0000018200348005_1 ... (1s) Current status: DONE   \n",
      "Waiting on bqjob_r3fc82096737ddd98_0000018200348e13_1 ... (1s) Current status: DONE   \n",
      "Waiting on bqjob_r2f9a327dff381740_0000018200349c24_1 ... (1s) Current status: DONE   \n",
      "Waiting on bqjob_r1f923fa930f38a82_000001820034aa00_1 ... (1s) Current status: DONE   \n",
      "Waiting on bqjob_r7299ba7321ce6569_000001820034b85a_1 ... (1s) Current status: DONE   \n"
     ]
    }
   ],
   "source": [
    "for f in files:\n",
    "    url = \"gs://gs_bakcentral/\" + f\n",
    "    !bq load --source_format=NEWLINE_DELIMITED_JSON explore.event {url}"
   ]
  },
  {
   "cell_type": "code",
   "execution_count": 19,
   "id": "e1bc8a62-6c9c-41d1-a50e-0d51c7917637",
   "metadata": {},
   "outputs": [
    {
     "name": "stdout",
     "output_type": "stream",
     "text": [
      "['json/ft_data_id_4d75834ecee082aabe06e5f36c719e34f44efe0c941d03a7f8950a42463424ce.json', 'json/ft_data_id_5cf278a53948a75d8659dff977a93593c7adf54b15fdc5d3b63adc869a47134a.json', 'json/ft_data_id_8fc625e748df2d4860810b8f3e218c3c9ddf6846f5f72b25c4e10d15a557b2ee.json', 'json/ft_data_id_ab3655cfef9cb23dd211edcc7acffc73ba9a90722cfc9a9469f812f3b3491b97.json', 'json/ft_data_id_d98ab917cf3274ca65dd34cae127bff4363da6decce8211f67895950b83cc844.json', 'json/ft_data_id_e5b4fba77d389f9d059a881ef454b6a2f709cf6b1ed15e79d30cedbe4b623044.json']\n"
     ]
    }
   ],
   "source": [
    "files = [f.name for f in list_blobs(\"gs_bakcentral\") if re.match(FT_RESTR, f.name)]\n",
    "print(files)"
   ]
  },
  {
   "cell_type": "code",
   "execution_count": 20,
   "id": "6545a41f-1813-471e-bbcb-63b108fc47c6",
   "metadata": {},
   "outputs": [
    {
     "name": "stdout",
     "output_type": "stream",
     "text": [
      "Waiting on bqjob_r6869d6bd93ec9a4a_000001820037b449_1 ... (1s) Current status: DONE   \n",
      "Waiting on bqjob_r243039e131fcb64e_000001820037c29d_1 ... (1s) Current status: DONE   \n",
      "Waiting on bqjob_r1faeac3efcab4c66_000001820037d112_1 ... (1s) Current status: DONE   \n",
      "Waiting on bqjob_r118237a074bbcf82_000001820037df0a_1 ... (1s) Current status: DONE   \n",
      "Waiting on bqjob_r644f9adf396ecb53_000001820037ed0b_1 ... (1s) Current status: DONE   \n",
      "Waiting on bqjob_r3473373e23920f6d_000001820037fae2_1 ... (1s) Current status: DONE   \n"
     ]
    }
   ],
   "source": [
    "for f in files:\n",
    "    url = \"gs://gs_bakcentral/\" + f\n",
    "    !bq load --source_format=NEWLINE_DELIMITED_JSON explore.ft_raw {url}"
   ]
  },
  {
   "cell_type": "code",
   "execution_count": null,
   "id": "a7c00b5b-aa99-421b-8dcf-0bee8336ebd3",
   "metadata": {},
   "outputs": [],
   "source": []
  }
 ],
 "metadata": {
  "environment": {
   "kernel": "python3",
   "name": "common-cpu.m94",
   "type": "gcloud",
   "uri": "gcr.io/deeplearning-platform-release/base-cpu:m94"
  },
  "kernelspec": {
   "display_name": "Python 3",
   "language": "python",
   "name": "python3"
  },
  "language_info": {
   "codemirror_mode": {
    "name": "ipython",
    "version": 3
   },
   "file_extension": ".py",
   "mimetype": "text/x-python",
   "name": "python",
   "nbconvert_exporter": "python",
   "pygments_lexer": "ipython3",
   "version": "3.7.12"
  }
 },
 "nbformat": 4,
 "nbformat_minor": 5
}
