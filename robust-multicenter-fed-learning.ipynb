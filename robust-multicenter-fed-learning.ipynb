{
 "cells": [
  {
   "cell_type": "markdown",
   "id": "310294a1",
   "metadata": {},
   "source": [
    "# build a package installed container as it used base image"
   ]
  },
  {
   "cell_type": "code",
   "execution_count": 6,
   "id": "b42c458c",
   "metadata": {},
   "outputs": [
    {
     "name": "stdout",
     "output_type": "stream",
     "text": [
      "Writing Docker/newimage/Dockerfile\n"
     ]
    }
   ],
   "source": [
    "%%writefile Docker/newimage/Dockerfile\n",
    "FROM gcr.io/deeplearning-platform-release/tf-cpu.1-15\n",
    "RUN git clone https://github.com/mingxuts/multi-center-fed-learning\n",
    "WORKDIR multi-center-fed-learning\n",
    "RUN pip install --no-cache-dir pot\n",
    "RUN pip install cmake\n",
    "RUN pip install --no-cache-dir -r requirements.txt"
   ]
  },
  {
   "cell_type": "code",
   "execution_count": null,
   "id": "1aa5e1ab",
   "metadata": {},
   "outputs": [],
   "source": [
    "#!git clone https://github.com/mingxuts/multi-center-fed-learning"
   ]
  },
  {
   "cell_type": "code",
   "execution_count": 3,
   "id": "e647e563",
   "metadata": {},
   "outputs": [],
   "source": [
    "!cp ../multi-center-fed-learning/requirements.txt Docker/newimage/"
   ]
  },
  {
   "cell_type": "code",
   "execution_count": 5,
   "id": "1e40d4ff",
   "metadata": {},
   "outputs": [
    {
     "name": "stdout",
     "output_type": "stream",
     "text": [
      "Writing Docker/newimage/.dockerignore\n"
     ]
    }
   ],
   "source": [
    "%%writefile Docker/newimage/.dockerignore\n",
    "Dockerfile\n",
    "README.md\n",
    "*.pyc\n",
    "*.pyo\n",
    "*.pyd\n",
    "__pycache__\n",
    ".pytest_cache"
   ]
  },
  {
   "cell_type": "code",
   "execution_count": null,
   "id": "180f6318",
   "metadata": {},
   "outputs": [],
   "source": [
    "!gcloud container images list \\\n",
    "  --repository=\"gcr.io/deeplearning-platform-release\""
   ]
  },
  {
   "cell_type": "code",
   "execution_count": null,
   "id": "58cc718e",
   "metadata": {},
   "outputs": [],
   "source": [
    "!gcloud builds submit --tag gcr.io/robust-multicenter-fl/base newimage"
   ]
  },
  {
   "cell_type": "markdown",
   "id": "47da0f0a",
   "metadata": {},
   "source": [
    "# Build docker for dataset femnist"
   ]
  },
  {
   "cell_type": "code",
   "execution_count": 51,
   "id": "b8fdf202",
   "metadata": {},
   "outputs": [
    {
     "name": "stdout",
     "output_type": "stream",
     "text": [
      "Overwriting Docker/data_fem/data_fem.bash\n"
     ]
    }
   ],
   "source": [
    "%%writefile Docker/data_fem/data_fem.bash\n",
    "#!/usr/bin/env bash\n",
    "\n",
    "echo \"Transfering data to local...\"\n",
    "mkdir -p ~/leaf/data/femnist/data/test\n",
    "mkdir -p ~/leaf/data/femnist/data/train\n",
    "gsutil -m rsync -r gs://gs_bak/leaf/data/femnist/data/test ~/leaf/data/femnist/data/test\n",
    "gsutil -m rsync -r gs://gs_bak/leaf/data/femnist/data/train ~/leaf/data/femnist/data/train\n",
    "\n",
    "echo \"Finished.\""
   ]
  },
  {
   "cell_type": "code",
   "execution_count": 52,
   "id": "c0d4c22d",
   "metadata": {},
   "outputs": [
    {
     "name": "stdout",
     "output_type": "stream",
     "text": [
      "Overwriting Docker/data_fem/Dockerfile\n"
     ]
    }
   ],
   "source": [
    "%%writefile Docker/data_fem/Dockerfile\n",
    "FROM gcr.io/robust-multicenter-fl/base\n",
    "\n",
    "COPY ./data_fem.bash /root\n",
    "RUN [\"chmod\", \"+x\", \"/root/data_fem.bash\"]\n",
    "RUN [\"/root/data_fem.bash\"]"
   ]
  },
  {
   "cell_type": "code",
   "execution_count": 1,
   "id": "fefb891b",
   "metadata": {},
   "outputs": [
    {
     "name": "stdout",
     "output_type": "stream",
     "text": [
      "Overwriting Docker/train_fem/training.bash\n"
     ]
    }
   ],
   "source": [
    "%%writefile Docker/train_fem/training.bash\n",
    "#!/usr/bin/env bash\n",
    "function sync_history() {\n",
    "    pushd ./metrics\n",
    "    last_f=`ls -lt | awk '/history/ {print $NF}'`\n",
    "    echo \"$1${last_f}\"\n",
    "    gsutil -m cp \"./${last_f}\" \"gs://gs_bak/mcflhistory/$1${last_f}\"\n",
    "    rm \"./${last_f}\"\n",
    "    popd\n",
    "}\n",
    "\n",
    "\n",
    "echo \"****** Experiment to run on FEMNIST ******\"\n",
    "cd /multi-center-fed-learning\n",
    "git pull origin rbmcfl\n",
    "cd /multi-center-fed-learning/models\n",
    "DATASET=\"FEMNIST\"\n",
    "\n",
    "python experiment.py -dataset femnist -experiment fedavg\n",
    "FILE=\"$DATASET-fedavg-\"\n",
    "sync_history FILE\n",
    "\n",
    "python experiment.py -dataset femnist -experiment fedrobust\n",
    "FILE=\"$DATASET-fedrobust-\"\n",
    "sync_history FILE\n",
    "\n",
    "python experiment.py -dataset femnist -experiment fedsem\n",
    "FILE=\"$DATASET-fedsem-\"\n",
    "sync_history FILE"
   ]
  },
  {
   "cell_type": "code",
   "execution_count": 2,
   "id": "fc240728",
   "metadata": {},
   "outputs": [
    {
     "name": "stdout",
     "output_type": "stream",
     "text": [
      "Overwriting Docker/train_fem/training_poison.bash\n"
     ]
    }
   ],
   "source": [
    "%%writefile Docker/train_fem/training_poison.bash\n",
    "#!/usr/bin/env bash\n",
    "function sync_history() {\n",
    "    pushd ./metrics\n",
    "    last_f=`ls -lt | awk '/history/ {print $NF}'`\n",
    "    echo \"$1${last_f}\"\n",
    "    gsutil -m cp \"./${last_f}\" \"gs://gs_bak/mcflhistory/$1${last_f}\"\n",
    "    rm \"./${last_f}\"\n",
    "    popd\n",
    "}\n",
    "\n",
    "cd /multi-center-fed-learning\n",
    "git pull origin rbmcfl\n",
    "cd /multi-center-fed-learning/models\n",
    "DATASET=\"FEMNIST\"\n",
    "\n",
    "echo \"****** Experiment to run on Femnist ******\"\n",
    "python experiment.py -dataset femnist -experiment fedavg -configuration job-poison.yaml\n",
    "FILE=\"$DATASET-fedavg-poison-\"\n",
    "sync_history FILE\n",
    "\n",
    "python experiment.py -dataset femnist -experiment fedrobust -configuration job-poison.yaml\n",
    "FILE=\"$DATASET-fedsem-poison-\"\n",
    "sync_history FILE\n",
    "\n",
    "python experiment.py -dataset femnist -experiment fedsem -configuration job-poison.yaml\n",
    "FILE=\"$DATASET-fedrobust-poison-\"\n",
    "sync_history FILE"
   ]
  },
  {
   "cell_type": "code",
   "execution_count": 3,
   "id": "9a5a9afc",
   "metadata": {},
   "outputs": [
    {
     "name": "stdout",
     "output_type": "stream",
     "text": [
      "Overwriting Docker/train_fem/Dockerfile\n"
     ]
    }
   ],
   "source": [
    "%%writefile Docker/train_fem/Dockerfile\n",
    "FROM gcr.io/robust-multicenter-fl/data_fem\n",
    "\n",
    "WORKDIR /root\n",
    "COPY ./training.bash /root\n",
    "COPY ./training_poison.bash /root\n",
    "RUN chmod +x ./training.bash\n",
    "RUN chmod +x ./training_poison.bash"
   ]
  },
  {
   "cell_type": "code",
   "execution_count": null,
   "id": "9fe5e918",
   "metadata": {},
   "outputs": [],
   "source": [
    "#!gcloud builds submit --tag gcr.io/robust-multicenter-fl/train_fem_op Docker/train_fem"
   ]
  },
  {
   "cell_type": "markdown",
   "id": "6acc21ee",
   "metadata": {},
   "source": [
    "# Build docker for celeba dataset"
   ]
  },
  {
   "cell_type": "code",
   "execution_count": 56,
   "id": "f73669a9",
   "metadata": {},
   "outputs": [
    {
     "name": "stdout",
     "output_type": "stream",
     "text": [
      "Writing Docker/data_cel/data_cel.bash\n"
     ]
    }
   ],
   "source": [
    "%%writefile Docker/data_cel/data_cel.bash\n",
    "#!/usr/bin/env bash\n",
    "\n",
    "echo \"Transfering data to local...\"\n",
    "mkdir -p ~/leaf/data/celeba/data/raw\n",
    "mkdir -p ~/leaf/data/celeba/data/test\n",
    "mkdir -p ~/leaf/data/celeba/data/train\n",
    "gsutil -m rsync -r gs://gs_bak/leaf/data/celeba/data/raw ~/leaf/data/celeba/data/raw\n",
    "gsutil -m rsync -r gs://gs_bak/leaf/data/celeba/data/test ~/leaf/data/celeba/data/test\n",
    "gsutil -m rsync -r gs://gs_bak/leaf/data/celeba/data/train ~/leaf/data/celeba/data/train\n",
    "\n",
    "echo \"Transfer done\""
   ]
  },
  {
   "cell_type": "code",
   "execution_count": 57,
   "id": "e832d9ff",
   "metadata": {},
   "outputs": [
    {
     "name": "stdout",
     "output_type": "stream",
     "text": [
      "Writing Docker/data_cel/Dockerfile\n"
     ]
    }
   ],
   "source": [
    "%%writefile Docker/data_cel/Dockerfile\n",
    "FROM gcr.io/robust-multicenter-fl/base\n",
    "\n",
    "WORKDIR /root\n",
    "COPY ./data_cel.bash /root\n",
    "RUN chmod +x ./data_cel.bash\n",
    "RUN ./data_cel.bash"
   ]
  },
  {
   "cell_type": "code",
   "execution_count": 58,
   "id": "d020915a",
   "metadata": {},
   "outputs": [
    {
     "name": "stdout",
     "output_type": "stream",
     "text": [
      "Writing Docker/train_cel/training.bash\n"
     ]
    }
   ],
   "source": [
    "%%writefile Docker/train_cel/training.bash\n",
    "#!/usr/bin/env bash\n",
    "function sync_history() {\n",
    "    pushd ./metrics\n",
    "    last_f=`ls -lt | awk '/history/ {print $NF}'`\n",
    "    echo \"$1${last_f}\"\n",
    "    gsutil -m cp \"./${last_f}\" \"gs://gs_bak/mcflhistory/$1${last_f}\"\n",
    "    rm \"./${last_f}\"\n",
    "    popd\n",
    "}\n",
    "\n",
    "echo \"****** Experiment to run on Celeba ******\"\n",
    "\n",
    "cd /multi-center-fed-learning\n",
    "git pull origin rbmcfl\n",
    "cd /multi-center-fed-learning/models\n",
    "DATASET=\"CELEBA\"\n",
    "python experiment.py -dataset celeba -experiment fedavg\n",
    "FILE=\"$DATASET-fedavg-\"\n",
    "sync_history FILE\n",
    "\n",
    "python experiment.py -dataset celeba -experiment fedsem\n",
    "FILE=\"$DATASET-fedsem-\"\n",
    "sync_history FILE\n",
    "\n",
    "python experiment.py -dataset celeba -experiment fedrobust\n",
    "FILE=\"$DATASET-fedrobust-\"\n",
    "sync_history FILE\n",
    "\n",
    "echo \"Training Data copied to bucket, job successfully completed. \""
   ]
  },
  {
   "cell_type": "code",
   "execution_count": 59,
   "id": "1e0e864b",
   "metadata": {},
   "outputs": [
    {
     "name": "stdout",
     "output_type": "stream",
     "text": [
      "Writing Docker/train_cel/training_poison.bash\n"
     ]
    }
   ],
   "source": [
    "%%writefile Docker/train_cel/training_poison.bash\n",
    "#!/usr/bin/env bash\n",
    "function sync_history() {\n",
    "    pushd ./metrics\n",
    "    last_f=`ls -lt | awk '/history/ {print $NF}'`\n",
    "    echo \"$1${last_f}\"\n",
    "    gsutil -m cp \"./${last_f}\" \"gs://gs_bak/mcflhistory/$1${last_f}\"\n",
    "    rm \"./${last_f}\"\n",
    "    popd\n",
    "}\n",
    "\n",
    "cd /multi-center-fed-learning\n",
    "git pull origin rbmcfl\n",
    "cd /multi-center-fed-learning/models\n",
    "DATASET=\"CELEBA\"\n",
    "echo \"****** Experiment to run on Celeba ******\"\n",
    "python experiment.py -dataset celeba -experiment fedavg -configuration job-poison.yaml\n",
    "FILE=\"$DATASET-fedavg-poison-\"\n",
    "sync_history FILE\n",
    "\n",
    "python experiment.py -dataset celeba -experiment fedsem -configuration job-poison.yaml\n",
    "FILE=\"$DATASET-fedsem-poison-\"\n",
    "sync_history FILE\n",
    "\n",
    "python experiment.py -dataset celeba -experiment fedrobust -configuration job-poison.yaml\n",
    "FILE=\"$DATASET-fedrobust-poison-\"\n",
    "sync_history FILE\n",
    "echo \"Training result copied to bucket, job successfully completed. \""
   ]
  },
  {
   "cell_type": "code",
   "execution_count": 60,
   "id": "fc522364",
   "metadata": {},
   "outputs": [
    {
     "name": "stdout",
     "output_type": "stream",
     "text": [
      "Writing Docker/train_cel/Dockerfile\n"
     ]
    }
   ],
   "source": [
    "%%writefile Docker/train_cel/Dockerfile\n",
    "FROM gcr.io/robust-multicenter-fl/data_op\n",
    "\n",
    "WORKDIR /root\n",
    "COPY ./training.bash /root\n",
    "COPY ./training_poison.bash /root\n",
    "RUN chmod +x ./training.bash\n",
    "RUN chmod +x ./training_poison.bash"
   ]
  },
  {
   "cell_type": "markdown",
   "id": "15a9a5d4",
   "metadata": {},
   "source": [
    "# Build docker file for Synthetic dataset"
   ]
  },
  {
   "cell_type": "code",
   "execution_count": 61,
   "id": "af387a1d",
   "metadata": {},
   "outputs": [
    {
     "name": "stdout",
     "output_type": "stream",
     "text": [
      "Writing Docker/train_syn/preprocess.bash\n"
     ]
    }
   ],
   "source": [
    "%%writefile Docker/train_syn/preprocess.bash\n",
    "#!/usr/bin/env bash\n",
    "\n",
    "cd /root/leaf/data/synthetic\n",
    "python main.py -num-tasks 1000 -num-classes 5 -num-dim 60\n",
    "./preprocess.sh -s niid --sf 1.0 -k 5 -t sample --tf 0.6"
   ]
  },
  {
   "cell_type": "code",
   "execution_count": 62,
   "id": "e33acd06",
   "metadata": {},
   "outputs": [
    {
     "name": "stdout",
     "output_type": "stream",
     "text": [
      "Writing Docker/train_syn/training.bash\n"
     ]
    }
   ],
   "source": [
    "%%writefile Docker/train_syn/training.bash\n",
    "#!/usr/bin/env bash\n",
    "function sync_history() {\n",
    "    pushd ./metrics\n",
    "    last_f=`ls -lt | awk '/history/ {print $NF}'`\n",
    "    echo \"$1${last_f}\"\n",
    "    gsutil -m cp \"./${last_f}\" \"gs://gs_bak/mcflhistory/$1${last_f}\"\n",
    "    rm \"./${last_f}\"\n",
    "    popd\n",
    "}\n",
    "\n",
    "echo \"****** Experiment to run on Celeba ******\"\n",
    "\n",
    "cd /multi-center-fed-learning\n",
    "git pull origin rbmcfl\n",
    "cd /multi-center-fed-learning/models\n",
    "DATASET=\"SYNTHETIC\"\n",
    "python experiment.py -dataset synthetic -experiment fedavg\n",
    "FILE=\"$DATASET-fedavg-\"\n",
    "sync_history FILE\n",
    "\n",
    "python experiment.py -dataset synthetic -experiment fedsem\n",
    "FILE=\"$DATASET-fedsem-\"\n",
    "sync_history FILE\n",
    "\n",
    "python experiment.py -dataset synthetic -experiment fedrobust\n",
    "FILE=\"$DATASET-fedrobust-\"\n",
    "sync_history FILE\n",
    "echo \"Training result copied to bucket, job successfully completed. \""
   ]
  },
  {
   "cell_type": "code",
   "execution_count": 63,
   "id": "92090666",
   "metadata": {},
   "outputs": [
    {
     "name": "stdout",
     "output_type": "stream",
     "text": [
      "Overwriting Docker/train_syn/Dockerfile\n"
     ]
    }
   ],
   "source": [
    "%%writefile Docker/train_syn/Dockerfile\n",
    "FROM gcr.io/robust-multicenter-fl/base\n",
    "\n",
    "WORKDIR /root\n",
    "RUN git clone https://github.com/TalwalkarLab/leaf\n",
    "COPY ./preprocess.bash ./\n",
    "RUN chmod +x ./preprocess.bash\n",
    "RUN ./preprocess.bash\n",
    "COPY ./training.bash /root\n",
    "COPY ./training_poison.bash /root\n",
    "RUN chmod +x ./training.bash\n",
    "RUN chmod +x ./training_poison.bash"
   ]
  },
  {
   "cell_type": "code",
   "execution_count": 64,
   "id": "e78988dd",
   "metadata": {},
   "outputs": [
    {
     "name": "stdout",
     "output_type": "stream",
     "text": [
      "Writing Docker/train_syn/training_poison.bash\n"
     ]
    }
   ],
   "source": [
    "%%writefile Docker/train_syn/training_poison.bash\n",
    "#!/usr/bin/env bash\n",
    "function sync_history() {\n",
    "    pushd ./metrics\n",
    "    last_f=`ls -lt | awk '/history/ {print $NF}'`\n",
    "    echo \"$1${last_f}\"\n",
    "    gsutil -m cp \"./${last_f}\" \"gs://gs_bak/mcflhistory/$1${last_f}\"\n",
    "    rm \"./${last_f}\"\n",
    "    popd\n",
    "}\n",
    "\n",
    "cd /multi-center-fed-learning\n",
    "git pull origin rbmcfl\n",
    "cd /multi-center-fed-learning/models\n",
    "echo \"****** Experiment to run on Synthetic ******\"\n",
    "DATASET=\"SYNTHETIC\"\n",
    "python experiment.py -dataset synthetic -experiment fedavg -configuration job-poison.yaml\n",
    "FILE=\"$DATASET-fedavg-poison-\"\n",
    "sync_history FILE\n",
    "\n",
    "python experiment.py -dataset synthetic -experiment fedsem -configuration job-poison.yaml\n",
    "FILE=\"$DATASET-fedsem-poison-\"\n",
    "sync_history FILE\n",
    "\n",
    "python experiment.py -dataset synthetic -experiment fedrobust -configuration job-poison.yaml\n",
    "FILE=\"$DATASET-fedrobust-poison-\"\n",
    "sync_history FILE\n",
    "echo \"Training result copied to bucket, job successfully completed. \""
   ]
  },
  {
   "cell_type": "markdown",
   "id": "407beb89",
   "metadata": {},
   "source": [
    "# Unit Test Code"
   ]
  },
  {
   "cell_type": "code",
   "execution_count": 65,
   "id": "c9f784b5",
   "metadata": {},
   "outputs": [
    {
     "name": "stdout",
     "output_type": "stream",
     "text": [
      "Overwriting test1.bash\n"
     ]
    }
   ],
   "source": [
    "%%writefile test1.bash\n",
    "#!/usr/bin/env bash\n",
    "\n",
    "function sync_history() {\n",
    "    pushd ./metrics\n",
    "    last_f=`ls -lt | awk '/history/ {print $NF}'`\n",
    "    echo \"$1${last_f}\"\n",
    "    gsutil -m cp \"./${last_f}\" \"gs://gs_bak/mcflhistory/$1${last_f}\"\n",
    "    rm \"./${last_f}\"\n",
    "    popd\n",
    "}\n",
    "\n",
    "cd /home/jupyter/multi-center-fed-learning/models\n",
    "DATASET=\"CELEBA\"\n",
    "sync_history \"$DATASET-fedavg-\""
   ]
  },
  {
   "cell_type": "code",
   "execution_count": 66,
   "id": "878423bb",
   "metadata": {},
   "outputs": [
    {
     "name": "stdout",
     "output_type": "stream",
     "text": [
      "~/multi-center-fed-learning/models/metrics ~/google-mlops\n",
      "writer.py\n",
      "Hello, World\n",
      "Hello, Worldwriter.py\n",
      "~/google-mlops\n"
     ]
    }
   ],
   "source": [
    "#!bash test.bash"
   ]
  },
  {
   "cell_type": "code",
   "execution_count": null,
   "id": "88499818",
   "metadata": {},
   "outputs": [],
   "source": [
    "#!gsutil cp gs://gs_bak/mcflhistory/* ~/multi-center-fed-learning/models/metrics"
   ]
  },
  {
   "cell_type": "code",
   "execution_count": null,
   "id": "d6b87571",
   "metadata": {},
   "outputs": [],
   "source": [
    "#!bash test1.bash"
   ]
  },
  {
   "cell_type": "code",
   "execution_count": null,
   "id": "1b121abf",
   "metadata": {},
   "outputs": [],
   "source": []
  }
 ],
 "metadata": {
  "environment": {
   "name": "tf2-gpu.2-3.m78",
   "type": "gcloud",
   "uri": "gcr.io/deeplearning-platform-release/tf2-gpu.2-3:m78"
  },
  "kernelspec": {
   "display_name": "Python 3",
   "language": "python",
   "name": "python3"
  },
  "language_info": {
   "codemirror_mode": {
    "name": "ipython",
    "version": 3
   },
   "file_extension": ".py",
   "mimetype": "text/x-python",
   "name": "python",
   "nbconvert_exporter": "python",
   "pygments_lexer": "ipython3",
   "version": "3.7.10"
  }
 },
 "nbformat": 4,
 "nbformat_minor": 5
}
