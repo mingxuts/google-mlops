{
 "cells": [
  {
   "cell_type": "markdown",
   "id": "e880c125",
   "metadata": {
    "id": "e880c125"
   },
   "source": [
    "# build a package installed container as it used base image"
   ]
  },
  {
   "cell_type": "code",
   "execution_count": null,
   "id": "186c6ee6",
   "metadata": {
    "id": "186c6ee6",
    "outputId": "eba768b8-5874-4eed-caf4-ad5b403f9ba4"
   },
   "outputs": [
    {
     "name": "stdout",
     "output_type": "stream",
     "text": [
      "Writing Docker/newimage/Dockerfile\n"
     ]
    }
   ],
   "source": [
    "%%writefile Docker/newimage/Dockerfile\n",
    "FROM gcr.io/deeplearning-platform-release/tf-cpu.1-15\n",
    "RUN git clone https://github.com/mingxuts/multi-center-fed-learning\n",
    "WORKDIR multi-center-fed-learning\n",
    "RUN pip install --no-cache-dir pot\n",
    "RUN pip install cmake\n",
    "RUN pip install --no-cache-dir -r requirements.txt"
   ]
  },
  {
   "cell_type": "code",
   "execution_count": null,
   "id": "7a353d94",
   "metadata": {
    "id": "7a353d94"
   },
   "outputs": [],
   "source": [
    "#!git clone https://github.com/mingxuts/multi-center-fed-learning"
   ]
  },
  {
   "cell_type": "code",
   "execution_count": null,
   "id": "30064214",
   "metadata": {
    "id": "30064214"
   },
   "outputs": [],
   "source": [
    "!cp ../multi-center-fed-learning/requirements.txt Docker/newimage/"
   ]
  },
  {
   "cell_type": "code",
   "execution_count": null,
   "id": "93d9aa77",
   "metadata": {
    "id": "93d9aa77",
    "outputId": "7ddb16f7-2562-483f-d32a-dade2f9412af"
   },
   "outputs": [
    {
     "name": "stdout",
     "output_type": "stream",
     "text": [
      "Writing Docker/newimage/.dockerignore\n"
     ]
    }
   ],
   "source": [
    "%%writefile Docker/newimage/.dockerignore\n",
    "Dockerfile\n",
    "README.md\n",
    "*.pyc\n",
    "*.pyo\n",
    "*.pyd\n",
    "__pycache__\n",
    ".pytest_cache"
   ]
  },
  {
   "cell_type": "code",
   "execution_count": null,
   "id": "6d02fbb3",
   "metadata": {
    "id": "6d02fbb3"
   },
   "outputs": [],
   "source": [
    "!gcloud container images list \\\n",
    "  --repository=\"gcr.io/deeplearning-platform-release\""
   ]
  },
  {
   "cell_type": "code",
   "execution_count": null,
   "id": "553c2d56",
   "metadata": {
    "id": "553c2d56"
   },
   "outputs": [],
   "source": [
    "!gcloud builds submit --tag gcr.io/robust-multicenter-fl/base newimage"
   ]
  },
  {
   "cell_type": "markdown",
   "id": "37c56274",
   "metadata": {
    "id": "37c56274"
   },
   "source": [
    "# Build docker for dataset femnist"
   ]
  },
  {
   "cell_type": "code",
   "execution_count": null,
   "id": "795daa86",
   "metadata": {
    "id": "795daa86",
    "outputId": "e2a24c6e-2da6-4077-e76a-74ab602de06f"
   },
   "outputs": [
    {
     "name": "stdout",
     "output_type": "stream",
     "text": [
      "Overwriting Docker/data_fem/data_fem.bash\n"
     ]
    }
   ],
   "source": [
    "%%writefile Docker/data_fem/data_fem.bash\n",
    "#!/usr/bin/env bash\n",
    "\n",
    "echo \"Transfering data to local...\"\n",
    "mkdir -p ~/leaf/data/femnist/data/test\n",
    "mkdir -p ~/leaf/data/femnist/data/train\n",
    "gsutil -m rsync -r gs://gs_bak/leaf/data/femnist/data/test ~/leaf/data/femnist/data/test\n",
    "gsutil -m rsync -r gs://gs_bak/leaf/data/femnist/data/train ~/leaf/data/femnist/data/train\n",
    "\n",
    "echo \"Finished.\""
   ]
  },
  {
   "cell_type": "code",
   "execution_count": null,
   "id": "2b70678b",
   "metadata": {
    "id": "2b70678b",
    "outputId": "02231bfa-6e35-431b-f948-d23692604d27"
   },
   "outputs": [
    {
     "name": "stdout",
     "output_type": "stream",
     "text": [
      "Overwriting Docker/data_fem/Dockerfile\n"
     ]
    }
   ],
   "source": [
    "%%writefile Docker/data_fem/Dockerfile\n",
    "FROM gcr.io/robust-multicenter-fl/base\n",
    "\n",
    "COPY ./data_fem.bash /root\n",
    "RUN [\"chmod\", \"+x\", \"/root/data_fem.bash\"]\n",
    "RUN [\"/root/data_fem.bash\"]"
   ]
  },
  {
   "cell_type": "code",
   "execution_count": null,
   "id": "7281bac2",
   "metadata": {
    "id": "7281bac2",
    "outputId": "83a82246-df8d-489a-8ed0-9ebc89026abd"
   },
   "outputs": [
    {
     "name": "stdout",
     "output_type": "stream",
     "text": [
      "Overwriting Docker/train_fem/training.bash\n"
     ]
    }
   ],
   "source": [
    "%%writefile Docker/train_fem/training.bash\n",
    "#!/usr/bin/env bash\n",
    "function sync_history() {\n",
    "    pushd ./metrics\n",
    "    last_f=`ls -lt | awk '/history/ {print $NF}'`\n",
    "    echo \"$1${last_f}\"\n",
    "    gsutil -m cp \"./${last_f}\" \"gs://gs_bak/mcflhistory/$1${last_f}\"\n",
    "    rm \"./${last_f}\"\n",
    "    popd\n",
    "}\n",
    "\n",
    "\n",
    "echo \"****** Experiment to run on FEMNIST ******\"\n",
    "cd /multi-center-fed-learning\n",
    "git pull origin rbmcfl\n",
    "cd /multi-center-fed-learning/models\n",
    "DATASET=\"FEMNIST\"\n",
    "\n",
    "python experiment.py -dataset femnist -experiment fedavg\n",
    "FILE=\"$DATASET-fedavg-\"\n",
    "sync_history \"${FILE}\"\n",
    "\n",
    "python experiment.py -dataset femnist -experiment fedrobust\n",
    "FILE=\"$DATASET-fedrobust-\"\n",
    "sync_history \"${FILE}\"\n",
    "\n",
    "python experiment.py -dataset femnist -experiment fedsem\n",
    "FILE=\"$DATASET-fedsem-\"\n",
    "sync_history \"${FILE}\"\n",
    "echo \"Result copied to storage, job successfully completed. \""
   ]
  },
  {
   "cell_type": "code",
   "execution_count": null,
   "id": "94f64198",
   "metadata": {
    "id": "94f64198",
    "outputId": "91ebcc3c-f700-4e9d-8d4f-28c94df0e33b"
   },
   "outputs": [
    {
     "name": "stdout",
     "output_type": "stream",
     "text": [
      "Overwriting Docker/train_fem/training_poison.bash\n"
     ]
    }
   ],
   "source": [
    "%%writefile Docker/train_fem/training_poison.bash\n",
    "#!/usr/bin/env bash\n",
    "function sync_history() {\n",
    "    pushd ./metrics\n",
    "    last_f=`ls -lt | awk '/history/ {print $NF}'`\n",
    "    echo \"$1${last_f}\"\n",
    "    gsutil -m cp \"./${last_f}\" \"gs://gs_bak/mcflhistory/$1${last_f}\"\n",
    "    rm \"./${last_f}\"\n",
    "    popd\n",
    "}\n",
    "\n",
    "cd /multi-center-fed-learning\n",
    "git pull origin rbmcfl\n",
    "cd /multi-center-fed-learning/models\n",
    "DATASET=\"FEMNIST\"\n",
    "\n",
    "echo \"****** Experiment to run on Femnist ******\"\n",
    "python experiment.py -dataset femnist -experiment fedavg -configuration job-poison.yaml\n",
    "FILE=\"$DATASET-fedavg-poison-\"\n",
    "sync_history \"${FILE}\"\n",
    "\n",
    "python experiment.py -dataset femnist -experiment fedrobust -configuration job-poison.yaml\n",
    "FILE=\"$DATASET-fedsem-poison-\"\n",
    "sync_history \"${FILE}\"\n",
    "\n",
    "python experiment.py -dataset femnist -experiment fedsem -configuration job-poison.yaml\n",
    "FILE=\"$DATASET-fedrobust-poison-\"\n",
    "sync_history \"${FILE}\"\n",
    "echo \"Result copied to storage, job successfully completed. \""
   ]
  },
  {
   "cell_type": "code",
   "execution_count": null,
   "id": "db98ef61",
   "metadata": {
    "id": "db98ef61",
    "outputId": "ad55c0f9-3123-4ac8-ad31-435945d34046"
   },
   "outputs": [
    {
     "name": "stdout",
     "output_type": "stream",
     "text": [
      "Overwriting Docker/train_fem/Dockerfile\n"
     ]
    }
   ],
   "source": [
    "%%writefile Docker/train_fem/Dockerfile\n",
    "FROM gcr.io/robust-multicenter-fl/data_fem\n",
    "\n",
    "WORKDIR /root\n",
    "COPY ./training.bash /root\n",
    "COPY ./training_poison.bash /root\n",
    "RUN chmod +x ./training.bash\n",
    "RUN chmod +x ./training_poison.bash"
   ]
  },
  {
   "cell_type": "code",
   "execution_count": null,
   "id": "dbfc78ce",
   "metadata": {
    "id": "dbfc78ce"
   },
   "outputs": [],
   "source": [
    "#!gcloud builds submit --tag gcr.io/robust-multicenter-fl/train_fem_op Docker/train_fem"
   ]
  },
  {
   "cell_type": "markdown",
   "id": "753fc167",
   "metadata": {
    "id": "753fc167"
   },
   "source": [
    "# Build docker for celeba dataset"
   ]
  },
  {
   "cell_type": "code",
   "execution_count": null,
   "id": "060a3163",
   "metadata": {
    "id": "060a3163",
    "outputId": "6c9f2593-8a79-4143-b640-dc24dc31d9c9"
   },
   "outputs": [
    {
     "name": "stdout",
     "output_type": "stream",
     "text": [
      "Overwriting Docker/data_cel/data_cel.bash\n"
     ]
    }
   ],
   "source": [
    "%%writefile Docker/data_cel/data_cel.bash\n",
    "#!/usr/bin/env bash\n",
    "\n",
    "echo \"Transfering data to local...\"\n",
    "mkdir -p ~/leaf/data/celeba/data/raw\n",
    "mkdir -p ~/leaf/data/celeba/data/test\n",
    "mkdir -p ~/leaf/data/celeba/data/train\n",
    "gsutil -m rsync -r gs://gs_bak/leaf/data/celeba/data/raw ~/leaf/data/celeba/data/raw\n",
    "gsutil -m rsync -r gs://gs_bak/leaf/data/celeba/data/test ~/leaf/data/celeba/data/test\n",
    "gsutil -m rsync -r gs://gs_bak/leaf/data/celeba/data/train ~/leaf/data/celeba/data/train\n",
    "\n",
    "echo \"Transfer done\""
   ]
  },
  {
   "cell_type": "code",
   "execution_count": null,
   "id": "77a24fec",
   "metadata": {
    "id": "77a24fec",
    "outputId": "4d5e978b-cb35-49d7-d7f7-3a424b5bbe10"
   },
   "outputs": [
    {
     "name": "stdout",
     "output_type": "stream",
     "text": [
      "Overwriting Docker/data_cel/Dockerfile\n"
     ]
    }
   ],
   "source": [
    "%%writefile Docker/data_cel/Dockerfile\n",
    "FROM gcr.io/robust-multicenter-fl/base\n",
    "\n",
    "WORKDIR /root\n",
    "COPY ./data_cel.bash /root\n",
    "RUN chmod +x ./data_cel.bash\n",
    "RUN ./data_cel.bash"
   ]
  },
  {
   "cell_type": "code",
   "execution_count": null,
   "id": "c82eb95f",
   "metadata": {
    "id": "c82eb95f",
    "outputId": "eddbdcab-5cb3-4a06-ce70-588930c47090"
   },
   "outputs": [
    {
     "name": "stdout",
     "output_type": "stream",
     "text": [
      "Overwriting Docker/train_cel/training.bash\n"
     ]
    }
   ],
   "source": [
    "%%writefile Docker/train_cel/training.bash\n",
    "#!/usr/bin/env bash\n",
    "function sync_history() {\n",
    "    pushd ./metrics\n",
    "    last_f=`ls -lt | awk '/history/ {print $NF}'`\n",
    "    echo \"$1${last_f}\"\n",
    "    gsutil -m cp \"./${last_f}\" \"gs://gs_bak/mcflhistory/$1${last_f}\"\n",
    "    rm \"./${last_f}\"\n",
    "    popd\n",
    "}\n",
    "\n",
    "echo \"****** Experiment to run on Celeba ******\"\n",
    "\n",
    "cd /multi-center-fed-learning\n",
    "git pull origin rbmcfl\n",
    "cd /multi-center-fed-learning/models\n",
    "DATASET=\"CELEBA\"\n",
    "python experiment.py -dataset celeba -experiment fedavg\n",
    "FILE=\"$DATASET-fedavg-\"\n",
    "sync_history \"${FILE}\"\n",
    "\n",
    "python experiment.py -dataset celeba -experiment fedsem\n",
    "FILE=\"$DATASET-fedsem-\"\n",
    "sync_history \"${FILE}\"\n",
    "\n",
    "python experiment.py -dataset celeba -experiment fedrobust\n",
    "FILE=\"$DATASET-fedrobust-\"\n",
    "sync_history \"${FILE}\"\n",
    "echo \"Result copied to storage, job successfully completed. \""
   ]
  },
  {
   "cell_type": "code",
   "execution_count": null,
   "id": "ca29573b",
   "metadata": {
    "id": "ca29573b",
    "outputId": "6b2fe7f2-f3c4-454a-90a0-89a2fa6425cf"
   },
   "outputs": [
    {
     "name": "stdout",
     "output_type": "stream",
     "text": [
      "Overwriting Docker/train_cel/training_poison.bash\n"
     ]
    }
   ],
   "source": [
    "%%writefile Docker/train_cel/training_poison.bash\n",
    "#!/usr/bin/env bash\n",
    "function sync_history() {\n",
    "    pushd ./metrics\n",
    "    last_f=`ls -lt | awk '/history/ {print $NF}'`\n",
    "    echo \"$1${last_f}\"\n",
    "    gsutil -m cp \"./${last_f}\" \"gs://gs_bak/mcflhistory/$1${last_f}\"\n",
    "    rm \"./${last_f}\"\n",
    "    popd\n",
    "}\n",
    "\n",
    "cd /multi-center-fed-learning\n",
    "git pull origin rbmcfl\n",
    "cd /multi-center-fed-learning/models\n",
    "DATASET=\"CELEBA\"\n",
    "echo \"****** Experiment to run on Celeba ******\"\n",
    "python experiment.py -dataset celeba -experiment fedavg -configuration job-poison.yaml\n",
    "FILE=\"$DATASET-fedavg-poison-\"\n",
    "sync_history \"${FILE}\"\n",
    "\n",
    "python experiment.py -dataset celeba -experiment fedsem -configuration job-poison.yaml\n",
    "FILE=\"$DATASET-fedsem-poison-\"\n",
    "sync_history \"${FILE}\"\n",
    "\n",
    "python experiment.py -dataset celeba -experiment fedrobust -configuration job-poison.yaml\n",
    "FILE=\"$DATASET-fedrobust-poison-\"\n",
    "sync_history \"${FILE}\"\n",
    "echo \"Result copied to storage, job successfully completed. \""
   ]
  },
  {
   "cell_type": "code",
   "execution_count": null,
   "id": "03e1dec5",
   "metadata": {
    "id": "03e1dec5",
    "outputId": "c312e3c2-781e-42ca-ec71-1b96ea7af7be"
   },
   "outputs": [
    {
     "name": "stdout",
     "output_type": "stream",
     "text": [
      "Overwriting Docker/train_cel/Dockerfile\n"
     ]
    }
   ],
   "source": [
    "%%writefile Docker/train_cel/Dockerfile\n",
    "FROM gcr.io/robust-multicenter-fl/data_op\n",
    "\n",
    "WORKDIR /root\n",
    "COPY ./training.bash /root\n",
    "COPY ./training_poison.bash /root\n",
    "RUN chmod +x ./training.bash\n",
    "RUN chmod +x ./training_poison.bash"
   ]
  },
  {
   "cell_type": "markdown",
   "id": "072d4642",
   "metadata": {
    "id": "072d4642"
   },
   "source": [
    "# Build docker file for Synthetic dataset"
   ]
  },
  {
   "cell_type": "code",
   "execution_count": null,
   "id": "af0cca63",
   "metadata": {
    "id": "af0cca63",
    "outputId": "fd28509e-078f-47a3-c7d4-cc2a4824b08d"
   },
   "outputs": [
    {
     "name": "stdout",
     "output_type": "stream",
     "text": [
      "Overwriting Docker/train_syn/preprocess.bash\n"
     ]
    }
   ],
   "source": [
    "%%writefile Docker/train_syn/preprocess.bash\n",
    "#!/usr/bin/env bash\n",
    "\n",
    "cd /root/leaf/data/synthetic\n",
    "python main.py -num-tasks 1000 -num-classes 5 -num-dim 60\n",
    "./preprocess.sh -s niid --sf 1.0 -k 5 -t sample --tf 0.6"
   ]
  },
  {
   "cell_type": "code",
   "execution_count": null,
   "id": "6f2486bd",
   "metadata": {
    "id": "6f2486bd",
    "outputId": "2a0a3de3-0e8e-4472-d1ba-409c5b96da2f"
   },
   "outputs": [
    {
     "name": "stdout",
     "output_type": "stream",
     "text": [
      "Overwriting Docker/train_syn/training.bash\n"
     ]
    }
   ],
   "source": [
    "%%writefile Docker/train_syn/training.bash\n",
    "#!/usr/bin/env bash\n",
    "function sync_history() {\n",
    "    pushd ./metrics\n",
    "    last_f=`ls -lt | awk '/history/ {print $NF}'`\n",
    "    echo \"$1${last_f}\"\n",
    "    gsutil -m cp \"./${last_f}\" \"gs://gs_bak/mcflhistory/$1${last_f}\"\n",
    "    rm \"./${last_f}\"\n",
    "    popd\n",
    "}\n",
    "\n",
    "echo \"****** Experiment to run on Synthetic ******\"\n",
    "\n",
    "cd /multi-center-fed-learning\n",
    "git pull origin rbmcfl\n",
    "cd /multi-center-fed-learning/models\n",
    "DATASET=\"SYNTHETIC\"\n",
    "python experiment.py -dataset synthetic -experiment fedavg\n",
    "FILE=\"$DATASET-fedavg-\"\n",
    "sync_history \"${FILE}\"\n",
    "\n",
    "python experiment.py -dataset synthetic -experiment fedsem\n",
    "FILE=\"$DATASET-fedsem-\"\n",
    "sync_history \"${FILE}\"\n",
    "\n",
    "python experiment.py -dataset synthetic -experiment fedrobust\n",
    "FILE=\"$DATASET-fedrobust-\"\n",
    "sync_history \"${FILE}\"\n",
    "echo \"Result copied to storage, job successfully completed. \""
   ]
  },
  {
   "cell_type": "code",
   "execution_count": null,
   "id": "2393dcf6",
   "metadata": {
    "id": "2393dcf6",
    "outputId": "3f1f6a3a-c1ff-4e43-8a24-4bceb3b9b3b8"
   },
   "outputs": [
    {
     "name": "stdout",
     "output_type": "stream",
     "text": [
      "Writing Docker/train_syn/training_alter.bash\n"
     ]
    }
   ],
   "source": [
    "%%writefile Docker/train_syn/training_alter.bash\n",
    "#!/usr/bin/env bash\n",
    "function sync_history() {\n",
    "    pushd ./metrics\n",
    "    last_f=`ls -lt | awk '/history/ {print $NF}'`\n",
    "    echo \"$1${last_f}\"\n",
    "    gsutil -m cp \"./${last_f}\" \"gs://gs_bak/mcflhistory/$1${last_f}\"\n",
    "    rm \"./${last_f}\"\n",
    "    popd\n",
    "}\n",
    "\n",
    "echo \"****** Experiment to run on Synthetic ******\"\n",
    "\n",
    "cd /multi-center-fed-learning\n",
    "git pull origin rbmcfl\n",
    "cd /multi-center-fed-learning/models\n",
    "DATASET=\"SYNTHETIC\"\n",
    "python experiment.py -dataset synthetic -experiment fedavg\n",
    "FILE=\"$DATASET-fedavg-\"\n",
    "sync_history \"${FILE}\"\n",
    "\n",
    "python experiment.py -dataset synthetic -experiment fedsgd\n",
    "FILE=\"$DATASET-fedsgd-\"\n",
    "sync_history \"${FILE}\"\n",
    "echo \"Result copied to storage, job successfully completed. \""
   ]
  },
  {
   "cell_type": "code",
   "execution_count": null,
   "id": "a3f440dc",
   "metadata": {
    "id": "a3f440dc",
    "outputId": "57b96a5a-64c4-4013-e67c-5052fabc6b66"
   },
   "outputs": [
    {
     "name": "stdout",
     "output_type": "stream",
     "text": [
      "Overwriting Docker/train_syn/training_poison.bash\n"
     ]
    }
   ],
   "source": [
    "%%writefile Docker/train_syn/training_poison.bash\n",
    "#!/usr/bin/env bash\n",
    "function sync_history() {\n",
    "    pushd ./metrics\n",
    "    last_f=`ls -lt | awk '/history/ {print $NF}'`\n",
    "    echo \"$1${last_f}\"\n",
    "    gsutil -m cp \"./${last_f}\" \"gs://gs_bak/mcflhistory/$1${last_f}\"\n",
    "    rm \"./${last_f}\"\n",
    "    popd\n",
    "}\n",
    "\n",
    "cd /multi-center-fed-learning\n",
    "git pull origin rbmcfl\n",
    "cd /multi-center-fed-learning/models\n",
    "echo \"****** Experiment to run on Synthetic ******\"\n",
    "DATASET=\"SYNTHETIC\"\n",
    "python experiment.py -dataset synthetic -experiment fedavg -configuration job-poison.yaml\n",
    "FILE=\"$DATASET-fedavg-poison-\"\n",
    "sync_history \"${FILE}\"\n",
    "\n",
    "python experiment.py -dataset synthetic -experiment fedsem -configuration job-poison.yaml\n",
    "FILE=\"$DATASET-fedsem-poison-\"\n",
    "sync_history \"${FILE}\"\n",
    "\n",
    "python experiment.py -dataset synthetic -experiment fedrobust -configuration job-poison.yaml\n",
    "FILE=\"$DATASET-fedrobust-poison-\"\n",
    "sync_history \"${FILE}\"\n",
    "echo \"Training result copied to bucket, job successfully completed. \""
   ]
  },
  {
   "cell_type": "code",
   "execution_count": null,
   "id": "d4a96784",
   "metadata": {
    "id": "d4a96784",
    "outputId": "dea47e65-51b0-4d20-9627-ca1122552fb8"
   },
   "outputs": [
    {
     "name": "stdout",
     "output_type": "stream",
     "text": [
      "Overwriting Docker/train_syn/Dockerfile\n"
     ]
    }
   ],
   "source": [
    "%%writefile Docker/train_syn/Dockerfile\n",
    "FROM gcr.io/robust-multicenter-fl/base\n",
    "\n",
    "WORKDIR /root\n",
    "RUN git clone https://github.com/TalwalkarLab/leaf\n",
    "COPY ./preprocess.bash ./\n",
    "RUN chmod +x ./preprocess.bash\n",
    "RUN ./preprocess.bash\n",
    "COPY ./training.bash /root\n",
    "COPY ./training_alter.bash /root\n",
    "COPY ./training_poison.bash /root\n",
    "RUN chmod +x ./training.bash\n",
    "RUN chmod +x ./training_alter.bash\n",
    "RUN chmod +x ./training_poison.bash"
   ]
  },
  {
   "cell_type": "markdown",
   "id": "08a31ccf",
   "metadata": {
    "id": "08a31ccf"
   },
   "source": [
    "# Build Docker for bencmark clustering (this script files are exchangable)"
   ]
  },
  {
   "cell_type": "code",
   "execution_count": null,
   "id": "84dc8fff",
   "metadata": {
    "id": "84dc8fff",
    "outputId": "2476f8b3-bce0-4a02-e88b-f66ef5abd290"
   },
   "outputs": [
    {
     "name": "stdout",
     "output_type": "stream",
     "text": [
      "Writing Docker/train_cel_b/benchmark_s.bash\n"
     ]
    }
   ],
   "source": [
    "%%writefile Docker/train_cel_b/benchmark_s.bash\n",
    "#!/usr/bin/env bash\n",
    "function sync_bench() {\n",
    "    last_f=`ls -lt | awk '/_clustering/ {print $NF}'`\n",
    "    echo \"$1${last_f}\"\n",
    "    gsutil -m cp \"./${last_f}\" \"gs://gs_bak/benchmark/$1${last_f}\"\n",
    "    rm \"./${last_f}\"\n",
    "}\n",
    "\n",
    "DATASET=\"celeba\"\n",
    "cd /multi-center-fed-learning\n",
    "git pull origin rbmcfl\n",
    "cd /multi-center-fed-learning/models\n",
    "echo \"****** Benchemark clustering to run on ${DATASET} ******\"\n",
    "\n",
    "python experiment.py -dataset \"$DATASET\" -experiment fedsem_benchmark -configuration job-poison.yaml\n",
    "FILE=\"$DATASET-\"\n",
    "sync_bench \"${FILE}\""
   ]
  },
  {
   "cell_type": "code",
   "execution_count": null,
   "id": "68370f74",
   "metadata": {
    "id": "68370f74",
    "outputId": "c0252e9b-59dd-455a-cebf-36a2092b526b"
   },
   "outputs": [
    {
     "name": "stdout",
     "output_type": "stream",
     "text": [
      "Writing Docker/train_cel_b/benchmark_r.bash\n"
     ]
    }
   ],
   "source": [
    "%%writefile Docker/train_cel_b/benchmark_r.bash\n",
    "#!/usr/bin/env bash\n",
    "function sync_bench() {\n",
    "    last_f=`ls -lt | awk '/_clustering/ {print $NF}'`\n",
    "    echo \"$1${last_f}\"\n",
    "    gsutil -m cp \"./${last_f}\" \"gs://gs_bak/benchmark/$1${last_f}\"\n",
    "    rm \"./${last_f}\"\n",
    "}\n",
    "\n",
    "DATASET=\"celeba\"\n",
    "cd /multi-center-fed-learning\n",
    "git pull origin rbmcfl\n",
    "cd /multi-center-fed-learning/models\n",
    "echo \"****** Benchemark clustering to run on ${DATASET} ******\"\n",
    "\n",
    "python experiment.py -dataset \"$DATASET\" -experiment fedrobust_benchmark -configuration job-poison.yaml\n",
    "FILE=\"$DATASET-\"\n",
    "sync_bench \"${FILE}\""
   ]
  },
  {
   "cell_type": "code",
   "execution_count": null,
   "id": "57cd3c3d",
   "metadata": {
    "id": "57cd3c3d",
    "outputId": "ed5cf774-3505-4131-995f-8cc221d5d3d8"
   },
   "outputs": [
    {
     "name": "stdout",
     "output_type": "stream",
     "text": [
      "Overwriting Docker/train_syn_b/Dockerfile\n"
     ]
    }
   ],
   "source": [
    "%%writefile Docker/train_syn_b/Dockerfile\n",
    "FROM gcr.io/robust-multicenter-fl/train_syn_op\n",
    "\n",
    "WORKDIR /root\n",
    "COPY ./benchmark_s.bash /root\n",
    "COPY ./benchmark_r.bash /root\n",
    "RUN chmod +x ./benchmark_s.bash\n",
    "RUN chmod +x ./benchmark_r.bash"
   ]
  },
  {
   "cell_type": "code",
   "execution_count": null,
   "id": "avxUzrkXe6Wj",
   "metadata": {
    "id": "avxUzrkXe6Wj"
   },
   "outputs": [],
   "source": [
    "%%writefile Docker/train_fem_b/benchmark_r.bash\n",
    "#!/usr/bin/env bash\n",
    "function sync_bench() {\n",
    "    last_f=`ls -lt | awk '/_clustering/ {print $NF}'`\n",
    "    echo \"$1${last_f}\"\n",
    "    gsutil -m cp \"./${last_f}\" \"gs://gs_bak/benchmark/$1${last_f}\"\n",
    "    rm \"./${last_f}\"\n",
    "}\n",
    "\n",
    "DATASET=\"femnist\"\n",
    "cd /multi-center-fed-learning\n",
    "git pull origin rbmcfl\n",
    "cd /multi-center-fed-learning/models\n",
    "echo \"****** Benchemark clustering to run on ${DATASET} ******\"\n",
    "\n",
    "python experiment.py -dataset \"$DATASET\" -experiment fedrobust_benchmark -configuration job-poison.yaml\n",
    "FILE=\"$DATASET-\"\n",
    "sync_bench \"${FILE}\""
   ]
  },
  {
   "cell_type": "code",
   "execution_count": null,
   "id": "U0WZm9BjfA6B",
   "metadata": {
    "id": "U0WZm9BjfA6B"
   },
   "outputs": [],
   "source": [
    "%%writefile Docker/train_fem_b/benchmark_s.bash\n",
    "#!/usr/bin/env bash\n",
    "function sync_bench() {\n",
    "    last_f=`ls -lt | awk '/_clustering/ {print $NF}'`\n",
    "    echo \"$1${last_f}\"\n",
    "    gsutil -m cp \"./${last_f}\" \"gs://gs_bak/benchmark/$1${last_f}\"\n",
    "    rm \"./${last_f}\"\n",
    "}\n",
    "\n",
    "DATASET=\"femnist\"\n",
    "cd /multi-center-fed-learning\n",
    "git pull origin rbmcfl\n",
    "cd /multi-center-fed-learning/models\n",
    "echo \"****** Benchemark clustering to run on ${DATASET} ******\"\n",
    "\n",
    "python experiment.py -dataset \"$DATASET\" -experiment fedsem_benchmark -configuration job-poison.yaml\n",
    "FILE=\"$DATASET-\"\n",
    "sync_bench \"${FILE}\""
   ]
  },
  {
   "cell_type": "code",
   "execution_count": null,
   "id": "VgjBO1LrfUE4",
   "metadata": {
    "id": "VgjBO1LrfUE4"
   },
   "outputs": [],
   "source": [
    "%%writefile Docker/train_fem_b/Dockerfile\n",
    "FROM gcr.io/robust-multicenter-fl/data_fem\n",
    "\n",
    "WORKDIR /root\n",
    "COPY ./benchmark_s.bash /root\n",
    "COPY ./benchmark_r.bash /root\n",
    "RUN chmod +x ./benchmark_s.bash\n",
    "RUN chmod +x ./benchmark_r.bash"
   ]
  },
  {
   "cell_type": "markdown",
   "id": "d02e38ff",
   "metadata": {
    "id": "d02e38ff"
   },
   "source": [
    "# Build docker for benchmark Celeba dataset (required two of bash files from previous section generated in the same folder first)"
   ]
  },
  {
   "cell_type": "code",
   "execution_count": null,
   "id": "d169cfc8",
   "metadata": {
    "id": "d169cfc8",
    "outputId": "9d330a66-686e-4567-a51b-867f446f0af0"
   },
   "outputs": [
    {
     "name": "stdout",
     "output_type": "stream",
     "text": [
      "Overwriting Docker/train_cel_b/Dockerfile\n"
     ]
    }
   ],
   "source": [
    "%%writefile Docker/train_cel_b/Dockerfile\n",
    "FROM gcr.io/robust-multicenter-fl/data_op\n",
    "\n",
    "WORKDIR /root\n",
    "COPY ./benchmark_s.bash /root\n",
    "COPY ./benchmark_r.bash /root\n",
    "RUN chmod +x ./benchmark_s.bash\n",
    "RUN chmod +x ./benchmark_r.bash"
   ]
  },
  {
   "cell_type": "markdown",
   "id": "532d5f88",
   "metadata": {
    "id": "532d5f88"
   },
   "source": [
    "# Unit Test Code"
   ]
  },
  {
   "cell_type": "code",
   "execution_count": null,
   "id": "20a8cccc",
   "metadata": {
    "id": "20a8cccc",
    "outputId": "64101062-cd68-402d-e3a6-3261c7d65a3d"
   },
   "outputs": [
    {
     "name": "stdout",
     "output_type": "stream",
     "text": [
      "Overwriting test1.bash\n"
     ]
    }
   ],
   "source": [
    "%%writefile test1.bash\n",
    "#!/usr/bin/env bash\n",
    "\n",
    "function sync_history() {\n",
    "    pushd ./metrics\n",
    "    last_f=`ls -lt | awk '/history/ {print $NF}'`\n",
    "    echo \"$1${last_f}\"\n",
    "    gsutil -m cp \"./${last_f}\" \"gs://gs_bak/mcflhistory/$1${last_f}\"\n",
    "    rm \"./${last_f}\"\n",
    "    popd\n",
    "}\n",
    "\n",
    "cd /home/jupyter/multi-center-fed-learning/models\n",
    "DATASET=\"CELEBA\"\n",
    "FILE=\"$DATASET-fedavg-\"\n",
    "sync_history \"${FILE}\""
   ]
  },
  {
   "cell_type": "code",
   "execution_count": null,
   "id": "d8058094",
   "metadata": {
    "id": "d8058094"
   },
   "outputs": [],
   "source": [
    "#!bash test.bash"
   ]
  },
  {
   "cell_type": "code",
   "execution_count": null,
   "id": "0c2a2343",
   "metadata": {
    "id": "0c2a2343"
   },
   "outputs": [],
   "source": [
    "#!gsutil cp gs://gs_bak/mcflhistory/* ~/multi-center-fed-learning/models/metrics"
   ]
  },
  {
   "cell_type": "code",
   "execution_count": null,
   "id": "d732836d",
   "metadata": {
    "id": "d732836d"
   },
   "outputs": [],
   "source": [
    "#!bash test1.bash"
   ]
  },
  {
   "cell_type": "code",
   "execution_count": null,
   "id": "070b65ed",
   "metadata": {
    "id": "070b65ed"
   },
   "outputs": [],
   "source": []
  }
 ],
 "metadata": {
  "colab": {
   "name": "robust-multicenter-fed-learning.ipynb",
   "provenance": []
  },
  "environment": {
   "kernel": "python3",
   "name": "common-cpu.m94",
   "type": "gcloud",
   "uri": "gcr.io/deeplearning-platform-release/base-cpu:m94"
  },
  "kernelspec": {
   "display_name": "Python 3",
   "language": "python",
   "name": "python3"
  },
  "language_info": {
   "codemirror_mode": {
    "name": "ipython",
    "version": 3
   },
   "file_extension": ".py",
   "mimetype": "text/x-python",
   "name": "python",
   "nbconvert_exporter": "python",
   "pygments_lexer": "ipython3",
   "version": "3.7.12"
  }
 },
 "nbformat": 4,
 "nbformat_minor": 5
}
