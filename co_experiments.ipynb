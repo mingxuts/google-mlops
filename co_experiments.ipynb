{
 "cells": [
  {
   "cell_type": "code",
   "execution_count": 3,
   "id": "18e0547a-7aef-46dc-a6e9-f4d63db4aca9",
   "metadata": {},
   "outputs": [
    {
     "name": "stdout",
     "output_type": "stream",
     "text": [
      "Overwriting scripts/main.bash\n"
     ]
    }
   ],
   "source": [
    "%%writefile scripts/main.bash\n",
    "#! /bin/bash\n",
    "\n",
    "DATASET=\"synthetic\"\n",
    "cd multi-center-fed-learning\n",
    "git pull origin pfl-test\n",
    "cd models\n",
    "echo $(pwd)"
   ]
  },
  {
   "cell_type": "code",
   "execution_count": null,
   "id": "deeecf4b-72ff-440c-ad3a-0095f861c45b",
   "metadata": {},
   "outputs": [],
   "source": []
  }
 ],
 "metadata": {
  "environment": {
   "kernel": "python3",
   "name": "common-cpu.m94",
   "type": "gcloud",
   "uri": "gcr.io/deeplearning-platform-release/base-cpu:m94"
  },
  "kernelspec": {
   "display_name": "Python 3",
   "language": "python",
   "name": "python3"
  },
  "language_info": {
   "codemirror_mode": {
    "name": "ipython",
    "version": 3
   },
   "file_extension": ".py",
   "mimetype": "text/x-python",
   "name": "python",
   "nbconvert_exporter": "python",
   "pygments_lexer": "ipython3",
   "version": "3.7.12"
  }
 },
 "nbformat": 4,
 "nbformat_minor": 5
}
