{
 "cells": [
  {
   "cell_type": "code",
   "execution_count": 16,
   "id": "18e0547a-7aef-46dc-a6e9-f4d63db4aca9",
   "metadata": {},
   "outputs": [
    {
     "name": "stdout",
     "output_type": "stream",
     "text": [
      "Overwriting scripts/main.bash\n"
     ]
    }
   ],
   "source": [
    "%%writefile scripts/main.bash\n",
    "#! /bin/bash\n",
    "\n",
    "DATASET=\"synthetic\"\n",
    "lr=\"0.03\"\n",
    "num_rounds=\"400\"\n",
    "clients_per_round=\"3\"\n",
    "base_line=\"fedco\"\n",
    "\n",
    "function run_fedco() {\n",
    "    rm ./output/*\n",
    "    num_clusters=\"$1\"\n",
    "    python fl_main.py --dataset=${DATASET} --num_rounds=${num_rounds} --baseline=${base_line} --clients-per-round=${clients_per_round} --epochs=10 --test_batch=100 --batch-size=10 --lr=${lr} --eval_every=1 --k=${num_clusters} --seed_file=config/random_seed.csv --extra_params_file=../configs/fedrobust/job.yaml    \n",
    "    bq load --source_format=NEWLINE_DELIMITED_JSON explore.event ./output/event_data.json\n",
    "    bq load --source_format=NEWLINE_DELIMITED_JSON explore.test_raw ./output/test_data.json\n",
    "    bq load --source_format=NEWLINE_DELIMITED_JSON explore.ft_raw ./output/ft_data.json\n",
    "}\n",
    "\n",
    "##################### Script #################################\n",
    "cd /root/leaf/data/synthetic\n",
    "rm -rf data\n",
    "python main.py -num-tasks 1000 -num-classes 5 -num-dim 60\n",
    "./preprocess.sh -s niid --sf 1.0 -k 5 -t sample --tf 0.6\n",
    "cd /root/multi-center-fed-learning\n",
    "git pull origin pfl-test\n",
    "cd models\n",
    "echo $(pwd)\n",
    "echo \"Running Training Pipeline.......\"\n",
    "run_fedco 3\n",
    "run_fedco 4\n",
    "run_fedco 5\n",
    "\n"
   ]
  },
  {
   "cell_type": "code",
   "execution_count": null,
   "id": "deeecf4b-72ff-440c-ad3a-0095f861c45b",
   "metadata": {},
   "outputs": [],
   "source": [
    "cd /root/leaf/data/synthetic\n",
    "rm -rf data\n",
    "python main.py -num-tasks 1000 -num-classes 5 -num-dim 60\n",
    "./preprocess.sh -s niid --sf 1.0 -k 5 -t sample --tf 0.6"
   ]
  },
  {
   "cell_type": "markdown",
   "id": "892a688b-4e4c-4c98-ae22-710279438d75",
   "metadata": {},
   "source": [
    "# copy following text to custom job training"
   ]
  },
  {
   "cell_type": "code",
   "execution_count": null,
   "id": "b81295f1-67c1-4240-83d2-1b24cba707ad",
   "metadata": {},
   "outputs": [],
   "source": [
    "/bin/bash\n",
    "-c\n",
    "gsutil cp gs://gs_bakcentral/src/* /root && cd /root/ && bash main.bash"
   ]
  }
 ],
 "metadata": {
  "environment": {
   "kernel": "python3",
   "name": "common-cpu.m94",
   "type": "gcloud",
   "uri": "gcr.io/deeplearning-platform-release/base-cpu:m94"
  },
  "kernelspec": {
   "display_name": "Python 3",
   "language": "python",
   "name": "python3"
  },
  "language_info": {
   "codemirror_mode": {
    "name": "ipython",
    "version": 3
   },
   "file_extension": ".py",
   "mimetype": "text/x-python",
   "name": "python",
   "nbconvert_exporter": "python",
   "pygments_lexer": "ipython3",
   "version": "3.7.12"
  }
 },
 "nbformat": 4,
 "nbformat_minor": 5
}
