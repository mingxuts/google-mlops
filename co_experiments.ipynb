{
 "cells": [
  {
   "cell_type": "code",
   "execution_count": 43,
   "id": "18e0547a-7aef-46dc-a6e9-f4d63db4aca9",
   "metadata": {
    "tags": []
   },
   "outputs": [
    {
     "name": "stdout",
     "output_type": "stream",
     "text": [
      "Overwriting scripts/main.bash\n"
     ]
    }
   ],
   "source": [
    "%%writefile scripts/main.bash\n",
    "#! /bin/bash\n",
    "\n",
    "DATASET=\"femnist\"\n",
    "lr=\"0.001\"\n",
    "num_rounds=\"200\"\n",
    "clients_per_round=\"10\"\n",
    "base_line=\"fedco\"\n",
    "\n",
    "function run_fedco() {\n",
    "    num_clusters=\"$1\"\n",
    "    python fl_main.py --dataset=${DATASET} --num_rounds=${num_rounds} --baseline=${base_line} --clients-per-round=${clients_per_round} --epochs=10 --test_batch=100 --batch-size=10 --lr=${lr} --eval_every=1 --k=${num_clusters} --seed_file=config/random_seed.csv --extra_params_file=../configs/fedrobust/job.yaml    \n",
    "}\n",
    "\n",
    "##################### Script #################################\n",
    "cd /root/leaf/data/femnist\n",
    "./preprocess.sh -s niid --sf 0.2 -k 30 -t sample --tf 0.8\n",
    "cd /root/multi-center-fed-learning\n",
    "git pull origin pfl-test\n",
    "cd models\n",
    "echo $(pwd)\n",
    "echo \"Running Training Pipeline.......\"\n",
    "run_fedco 2\n",
    "run_fedco 4\n",
    "run_fedco 6\n",
    "\n",
    "gsutil -m cp ./output/* gs://gs_bakcentral/json/\n",
    "\n"
   ]
  },
  {
   "cell_type": "code",
   "execution_count": 44,
   "id": "f7bee14c-b6bf-4898-aee2-cc87977169f3",
   "metadata": {},
   "outputs": [
    {
     "name": "stdout",
     "output_type": "stream",
     "text": [
      "File scripts/main.bash uploaded to src/main.bash.\n"
     ]
    }
   ],
   "source": [
    "bucket_name = \"gs_bakcentral\"\n",
    "s_name = \"scripts/main.bash\"\n",
    "t_name = \"src/main.bash\"\n",
    "upload_blob(bucket_name, s_name, t_name)"
   ]
  },
  {
   "cell_type": "code",
   "execution_count": null,
   "id": "deeecf4b-72ff-440c-ad3a-0095f861c45b",
   "metadata": {},
   "outputs": [],
   "source": [
    "cd /root/leaf/data/synthetic\n",
    "rm -rf data\n",
    "python main.py -num-tasks 1000 -num-classes 5 -num-dim 60\n",
    "./preprocess.sh -s niid --sf 1.0 -k 5 -t sample --tf 0.6"
   ]
  },
  {
   "cell_type": "code",
   "execution_count": null,
   "id": "1c945619-e2b0-4129-9662-2f1c6a51e1f2",
   "metadata": {},
   "outputs": [],
   "source": [
    "cd /root/leaf/data/femnist\n",
    "./preprocess.sh -s niid --sf 0.3 -k 30 -t sample --tf 0.8\n"
   ]
  },
  {
   "cell_type": "markdown",
   "id": "892a688b-4e4c-4c98-ae22-710279438d75",
   "metadata": {},
   "source": [
    "# copy following text to custom job training"
   ]
  },
  {
   "cell_type": "code",
   "execution_count": 20,
   "id": "0817fb7f-4274-4f38-9844-6f50aaf99ba9",
   "metadata": {},
   "outputs": [],
   "source": [
    "from google.cloud import storage\n",
    "\n",
    "\n",
    "def upload_blob(bucket_name, source_file_name, destination_blob_name):\n",
    "    \"\"\"Uploads a file to the bucket.\"\"\"\n",
    "    # The ID of your GCS bucket\n",
    "    # bucket_name = \"your-bucket-name\"\n",
    "    # The path to your file to upload\n",
    "    # source_file_name = \"local/path/to/file\"\n",
    "    # The ID of your GCS object\n",
    "    # destination_blob_name = \"storage-object-name\"\n",
    "\n",
    "    storage_client = storage.Client()\n",
    "    bucket = storage_client.bucket(bucket_name)\n",
    "    blob = bucket.blob(destination_blob_name)\n",
    "\n",
    "    blob.upload_from_filename(source_file_name)\n",
    "\n",
    "    print(\n",
    "        f\"File {source_file_name} uploaded to {destination_blob_name}.\"\n",
    "    )\n"
   ]
  },
  {
   "cell_type": "code",
   "execution_count": null,
   "id": "b81295f1-67c1-4240-83d2-1b24cba707ad",
   "metadata": {},
   "outputs": [],
   "source": [
    "/bin/bash\n",
    "-c\n",
    "gsutil cp gs://gs_bakcentral/src/* /root && cd /root/ && bash main.bash"
   ]
  }
 ],
 "metadata": {
  "environment": {
   "kernel": "python3",
   "name": "common-cpu.m94",
   "type": "gcloud",
   "uri": "gcr.io/deeplearning-platform-release/base-cpu:m94"
  },
  "kernelspec": {
   "display_name": "Python 3",
   "language": "python",
   "name": "python3"
  },
  "language_info": {
   "codemirror_mode": {
    "name": "ipython",
    "version": 3
   },
   "file_extension": ".py",
   "mimetype": "text/x-python",
   "name": "python",
   "nbconvert_exporter": "python",
   "pygments_lexer": "ipython3",
   "version": "3.7.12"
  }
 },
 "nbformat": 4,
 "nbformat_minor": 5
}
